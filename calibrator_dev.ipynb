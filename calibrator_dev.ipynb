{
 "cells": [
  {
   "cell_type": "code",
   "execution_count": 1,
   "metadata": {
    "collapsed": true
   },
   "outputs": [],
   "source": [
    "import numpy as np\n",
    "import matplotlib.pyplot as plt\n",
    "from numpy.matlib import repmat\n",
    "import pickle\n",
    "from sklearn.externals import joblib\n",
    "import os\n",
    "import scipy as sp\n",
    "from scipy.spatial.distance import pdist, squareform\n",
    "from update_gpparam import *\n",
    "from tvar_multivariate_G import *\n",
    "from sample_variances import *\n",
    "from preprocess_initialization import *\n",
    "from gpparam_score_diffLogPrior_withProdTerm import *\n",
    "from calibrator import *\n",
    "\n",
    "plt.rcParams['axes.labelsize'] = 14\n",
    "plt.rcParams['xtick.labelsize'] = 20\n",
    "plt.rcParams['ytick.labelsize'] = 20\n",
    "plt.rcParams['axes.titlesize'] = 20"
   ]
  },
  {
   "cell_type": "code",
   "execution_count": 2,
   "metadata": {
    "collapsed": true
   },
   "outputs": [],
   "source": [
    "data_path = os.path.join('/Users/xliu/Documents/MRC/Work/Program/','emulator/python_version/emulation_python_ver/')\n",
    "train_inputs  = data_path + 'LHCDesign_training.txt'\n",
    "train_outputs = data_path + 'Outputs_training.txt'\n",
    "valid_inputs  = data_path + 'LHCDesign_validation.txt'\n",
    "valid_outputs = data_path + 'Outputs_validation.txt'\n",
    "field_data    = data_path + 'andre_agg_estimates_London_python.txt'\t\n",
    "\n",
    "train_inputs  = read_data_from_txt(train_inputs, is_output = False)\n",
    "train_outputs = read_data_from_txt(train_outputs, is_output = True, time_length = 245)\n",
    "valid_inputs  = read_data_from_txt(valid_inputs, is_output = False)\n",
    "valid_outputs = read_data_from_txt(valid_outputs, is_output = True, time_length = 245)\n",
    "field_data    = read_data_from_txt(field_data, is_output=False)\t\n",
    "\n",
    "data = {'train_inputs': train_inputs, 'train_outputs': train_outputs,\n",
    "        'valid_inputs': valid_inputs, 'valid_outputs': valid_outputs}"
   ]
  },
  {
   "cell_type": "code",
   "execution_count": 3,
   "metadata": {
    "collapsed": true
   },
   "outputs": [],
   "source": [
    "from emulator import emulator_cls"
   ]
  },
  {
   "cell_type": "code",
   "execution_count": null,
   "metadata": {
    "collapsed": false
   },
   "outputs": [],
   "source": [
    "emulator = emulator_cls(data, time_length = 245)\n",
    "emulator.fit()\n",
    "model_name = 'emulator.sav'\n",
    "joblib.dump(emulator, data_path+model_name)"
   ]
  },
  {
   "cell_type": "code",
   "execution_count": null,
   "metadata": {
    "collapsed": true
   },
   "outputs": [],
   "source": []
  },
  {
   "cell_type": "code",
   "execution_count": 4,
   "metadata": {
    "collapsed": false
   },
   "outputs": [
    {
     "name": "stdout",
     "output_type": "stream",
     "text": [
      "(8, 245, 1200)\n"
     ]
    }
   ],
   "source": [
    "# load model\n",
    "model_name = 'emulator.sav'\n",
    "emulator_built = joblib.load(data_path + model_name)\n",
    "print(emulator_built.emulator_param.shape)\n",
    "#param_posterior = emulator_built.calibrate(field_data)"
   ]
  },
  {
   "cell_type": "code",
   "execution_count": 6,
   "metadata": {
    "collapsed": false
   },
   "outputs": [],
   "source": [
    "param_t = 0.4 * np.ones((1, 6))\n",
    "param_extend = repmat(param_t, m = 200, n = 1)"
   ]
  },
  {
   "cell_type": "code",
   "execution_count": 7,
   "metadata": {
    "collapsed": true
   },
   "outputs": [],
   "source": [
    "train_inputs = np.random.randn(200, 6)"
   ]
  },
  {
   "cell_type": "code",
   "execution_count": 8,
   "metadata": {
    "collapsed": false
   },
   "outputs": [
    {
     "data": {
      "text/plain": [
       "(200, 6)"
      ]
     },
     "execution_count": 8,
     "metadata": {},
     "output_type": "execute_result"
    }
   ],
   "source": [
    "beta_t = 0.5 * np.ones((1, 6))\n",
    "beta_extend = repmat(beta_t, m = 200, n = 1)\n",
    "beta_extend.shape"
   ]
  },
  {
   "cell_type": "code",
   "execution_count": 9,
   "metadata": {
    "collapsed": false
   },
   "outputs": [
    {
     "data": {
      "text/plain": [
       "(1, 6)"
      ]
     },
     "execution_count": 9,
     "metadata": {},
     "output_type": "execute_result"
    }
   ],
   "source": [
    "beta_t.shape"
   ]
  },
  {
   "cell_type": "code",
   "execution_count": 10,
   "metadata": {
    "collapsed": true
   },
   "outputs": [],
   "source": [
    "para_beta = np.c_[param_extend, beta_extend]"
   ]
  },
  {
   "cell_type": "code",
   "execution_count": 11,
   "metadata": {
    "collapsed": false
   },
   "outputs": [
    {
     "name": "stdout",
     "output_type": "stream",
     "text": [
      "(200, 12)\n"
     ]
    },
    {
     "data": {
      "text/plain": [
       "array([ 0.4,  0.4,  0.4,  0.4,  0.4,  0.4,  0.5,  0.5,  0.5,  0.5,  0.5,\n",
       "        0.5])"
      ]
     },
     "execution_count": 11,
     "metadata": {},
     "output_type": "execute_result"
    }
   ],
   "source": [
    "print(para_beta.shape)\n",
    "para_beta[0, :]"
   ]
  },
  {
   "cell_type": "code",
   "execution_count": 12,
   "metadata": {
    "collapsed": false
   },
   "outputs": [
    {
     "data": {
      "text/plain": [
       "[2.0108357105585366]"
      ]
     },
     "execution_count": 12,
     "metadata": {},
     "output_type": "execute_result"
    }
   ],
   "source": [
    "list(map(lambda para, x, b: (b*np.sqrt(((para-x)**2))).sum(), param_extend, train_inputs, beta_t))"
   ]
  },
  {
   "cell_type": "code",
   "execution_count": 13,
   "metadata": {
    "collapsed": false
   },
   "outputs": [
    {
     "data": {
      "text/plain": [
       "[2.0108357105585366,\n",
       " 2.3526723434846746,\n",
       " 2.3579728925307171,\n",
       " 3.1414083851570238,\n",
       " 0.84363929494829693,\n",
       " 2.8407132040344765,\n",
       " 2.7327836649942641,\n",
       " 1.5436680995358909,\n",
       " 1.7934125675297046,\n",
       " 3.4711100350031323,\n",
       " 2.5174355345388939,\n",
       " 1.4871709601659751,\n",
       " 2.4359697723494405,\n",
       " 3.626763103066819,\n",
       " 2.4262226228837096,\n",
       " 3.953778116826542,\n",
       " 1.9874498892552694,\n",
       " 3.0540137372272467,\n",
       " 0.53189467022827674,\n",
       " 2.2330399725415879,\n",
       " 1.8457251143878892,\n",
       " 2.294378137963375,\n",
       " 3.1279721115599117,\n",
       " 1.4962732732082746,\n",
       " 1.4608305355753539,\n",
       " 3.8141383024251927,\n",
       " 1.8027612156508075,\n",
       " 2.4475318895372746,\n",
       " 1.9852253017078556,\n",
       " 3.3542657217739142,\n",
       " 3.3884229119656233,\n",
       " 1.9073259820672317,\n",
       " 2.768710288374197,\n",
       " 1.645319481146909,\n",
       " 4.282224170458873,\n",
       " 2.251218678803153,\n",
       " 2.7061313263377258,\n",
       " 1.7030678857600696,\n",
       " 2.7038535554401886,\n",
       " 2.939137098157703,\n",
       " 3.8531818693864803,\n",
       " 2.3173292221955948,\n",
       " 2.1653638927878656,\n",
       " 2.8738938138487211,\n",
       " 2.6663068336416131,\n",
       " 2.0483670390113997,\n",
       " 2.1609903328374562,\n",
       " 2.1669569674111298,\n",
       " 3.313418584065035,\n",
       " 2.2604900369774552,\n",
       " 1.6919366051048221,\n",
       " 3.0336626116874599,\n",
       " 2.7440551665557686,\n",
       " 4.285394682849903,\n",
       " 3.3143461507850644,\n",
       " 3.2656424675180338,\n",
       " 3.9848564980440377,\n",
       " 3.6135068524091469,\n",
       " 3.0787032156269616,\n",
       " 2.8664744734293701,\n",
       " 2.3541534900644474,\n",
       " 2.4366540635446818,\n",
       " 1.7071048547221044,\n",
       " 2.5431820068340008,\n",
       " 2.4229083769452631,\n",
       " 1.7408276942051,\n",
       " 2.0426542687405425,\n",
       " 1.6300241745552699,\n",
       " 1.4637353144502359,\n",
       " 1.9335508670139854,\n",
       " 2.1733977003850042,\n",
       " 2.4872338421886608,\n",
       " 1.3757839162582668,\n",
       " 1.5248532035868052,\n",
       " 1.867905686824151,\n",
       " 1.998335847310456,\n",
       " 1.5175225668943584,\n",
       " 1.7972125740505944,\n",
       " 3.2264696635760948,\n",
       " 1.1200998713245984,\n",
       " 3.3311182068515581,\n",
       " 1.6130102637516037,\n",
       " 2.8200449634671587,\n",
       " 1.3573841494422756,\n",
       " 2.6624708075661827,\n",
       " 3.8855300168063627,\n",
       " 2.8289946389814236,\n",
       " 2.2998295984524204,\n",
       " 2.1702507963908704,\n",
       " 2.7965997075227209,\n",
       " 1.8914309802939693,\n",
       " 1.8153106750993309,\n",
       " 1.9030736297195479,\n",
       " 1.7822873866280595,\n",
       " 2.0404827874189615,\n",
       " 1.0078869801670773,\n",
       " 4.2791751878544755,\n",
       " 2.8209377244888172,\n",
       " 3.1808394623559519,\n",
       " 2.6132481774370584,\n",
       " 1.2964743629046216,\n",
       " 1.2914878933983744,\n",
       " 2.4876641717304322,\n",
       " 2.0346534077413203,\n",
       " 3.2378877277009437,\n",
       " 1.0126487441542453,\n",
       " 1.3746473990287731,\n",
       " 3.5125200510883343,\n",
       " 1.8560722963935092,\n",
       " 1.733708607706087,\n",
       " 4.1951447356526685,\n",
       " 1.757676842682999,\n",
       " 1.8898772647551649,\n",
       " 2.9960001488586947,\n",
       " 3.8867188771228549,\n",
       " 3.2088433329546993,\n",
       " 3.4384483257276766,\n",
       " 4.2860489728832896,\n",
       " 3.4519258757601579,\n",
       " 1.6380081219019373,\n",
       " 2.0203206038513359,\n",
       " 1.2337698003875626,\n",
       " 3.3669080044473789,\n",
       " 3.0743343687547675,\n",
       " 2.9635616729017316,\n",
       " 3.4162761838351163,\n",
       " 1.786951444889997,\n",
       " 3.0265403214059785,\n",
       " 1.7596094980666721,\n",
       " 2.44991990400568,\n",
       " 3.3713041169072175,\n",
       " 1.9305376322261116,\n",
       " 3.2969208913128929,\n",
       " 5.618232866582904,\n",
       " 3.039276520713357,\n",
       " 3.1541747732048298,\n",
       " 3.1653115739826139,\n",
       " 1.258023258453197,\n",
       " 2.056708919279862,\n",
       " 1.7385615906980365,\n",
       " 2.6983258648795396,\n",
       " 2.5937642964174108,\n",
       " 2.2918681407680146,\n",
       " 3.7381559379876541,\n",
       " 3.7447973469127351,\n",
       " 1.6168214572113149,\n",
       " 2.358078165883513,\n",
       " 4.8373546697080343,\n",
       " 2.5789908788307683,\n",
       " 1.5626406649136122,\n",
       " 3.0266378961402247,\n",
       " 2.6540795161942943,\n",
       " 2.8628858124421548,\n",
       " 1.7087268599300001,\n",
       " 2.0427127039634034,\n",
       " 2.1181928979052307,\n",
       " 3.5392341252996466,\n",
       " 0.8439778068008662,\n",
       " 3.487732758197327,\n",
       " 2.1211752450828478,\n",
       " 2.3981040961505236,\n",
       " 1.3728140861717617,\n",
       " 1.6075861439686592,\n",
       " 2.9104378712281251,\n",
       " 2.7801417892755995,\n",
       " 3.962531671019768,\n",
       " 1.3144947338915056,\n",
       " 1.5729552762355659,\n",
       " 3.1158548132245132,\n",
       " 2.8744757125521252,\n",
       " 1.8992290815650208,\n",
       " 2.6820627700137902,\n",
       " 2.2075420278724178,\n",
       " 3.1405395786947969,\n",
       " 2.8718556449065011,\n",
       " 2.414003271277914,\n",
       " 4.1622646685333393,\n",
       " 5.1461294065599139,\n",
       " 3.4864491700815803,\n",
       " 2.7746094597628046,\n",
       " 1.4203194109191513,\n",
       " 1.3603657624176833,\n",
       " 3.1121060916713748,\n",
       " 2.7247784235650476,\n",
       " 1.0373544351706596,\n",
       " 3.2774645571146963,\n",
       " 2.8489053847365926,\n",
       " 2.2603983459662111,\n",
       " 3.3774775083273165,\n",
       " 2.3327352394841609,\n",
       " 3.0805736815406353,\n",
       " 2.4835796072187675,\n",
       " 2.3912255417641139,\n",
       " 3.6724313907482111,\n",
       " 3.1746190915042045,\n",
       " 2.0938704667667198,\n",
       " 4.4134755165507524,\n",
       " 2.830017201746982,\n",
       " 3.3654440854725012,\n",
       " 1.9218139523420388]"
      ]
     },
     "execution_count": 13,
     "metadata": {},
     "output_type": "execute_result"
    }
   ],
   "source": [
    "list(map(lambda para, x: (para[6:]*np.sqrt(((para[:6]-x)**2))).sum(), para_beta, train_inputs))"
   ]
  },
  {
   "cell_type": "code",
   "execution_count": 2,
   "metadata": {
    "collapsed": true
   },
   "outputs": [],
   "source": [
    "delay_distribution  = np.array([0.00356498122310219, 0.0241909650774591,\\\n",
    "            0.0537030705484224,  0.07956071762201, 0.0961914714596036,\\\n",
    "            0.102950833972866, 0.101591781393376,  0.0946065162134661,\\\n",
    "            0.0843575216352006, 0.0727223345103803, 0.061022715024489,\\\n",
    "            0.050087644508563, 0.0403632249361386, 0.0320249177166795])"
   ]
  },
  {
   "cell_type": "code",
   "execution_count": 5,
   "metadata": {
    "collapsed": false
   },
   "outputs": [
    {
     "data": {
      "text/plain": [
       "array([ 0.00356498,  0.02419097,  0.05370307,  0.07956072,  0.09619147,\n",
       "        0.10295083,  0.10159178,  0.09460652,  0.08435752,  0.07272233,\n",
       "        0.06102272,  0.05008764,  0.04036322,  0.03202492])"
      ]
     },
     "execution_count": 5,
     "metadata": {},
     "output_type": "execute_result"
    }
   ],
   "source": [
    "delay_distribution"
   ]
  },
  {
   "cell_type": "code",
   "execution_count": 4,
   "metadata": {
    "collapsed": false
   },
   "outputs": [
    {
     "data": {
      "text/plain": [
       "array([ 0.00356498,  0.02775595,  0.08145902,  0.16101973,  0.25721121,\n",
       "        0.36016204,  0.46175382,  0.55636034,  0.64071786,  0.71344019,\n",
       "        0.77446291,  0.82455055,  0.86491378,  0.8969387 ])"
      ]
     },
     "execution_count": 4,
     "metadata": {},
     "output_type": "execute_result"
    }
   ],
   "source": [
    "np.cumsum(delay_distribution)"
   ]
  },
  {
   "cell_type": "code",
   "execution_count": 8,
   "metadata": {
    "collapsed": false
   },
   "outputs": [
    {
     "data": {
      "text/plain": [
       "array([ 0.8969387 ,  0.86491378,  0.82455055,  0.77446291,  0.71344019,\n",
       "        0.64071786,  0.55636034,  0.46175382,  0.36016204,  0.25721121,\n",
       "        0.16101973,  0.08145902,  0.02775595,  0.00356498])"
      ]
     },
     "execution_count": 8,
     "metadata": {},
     "output_type": "execute_result"
    }
   ],
   "source": [
    "np.flip(np.cumsum(delay_distribution), axis=0)"
   ]
  },
  {
   "cell_type": "code",
   "execution_count": 9,
   "metadata": {
    "collapsed": true
   },
   "outputs": [],
   "source": [
    "from scipy.stats import gamma"
   ]
  },
  {
   "cell_type": "code",
   "execution_count": 11,
   "metadata": {
    "collapsed": false
   },
   "outputs": [
    {
     "data": {
      "text/plain": [
       "0.0001"
      ]
     },
     "execution_count": 11,
     "metadata": {},
     "output_type": "execute_result"
    }
   ],
   "source": [
    "a = gamma.mean(0.01, scale = 0.01)\n",
    "a"
   ]
  },
  {
   "cell_type": "code",
   "execution_count": 12,
   "metadata": {
    "collapsed": false
   },
   "outputs": [
    {
     "data": {
      "text/plain": [
       "1.0"
      ]
     },
     "execution_count": 12,
     "metadata": {},
     "output_type": "execute_result"
    }
   ],
   "source": [
    "a = gamma.mean(0.01, scale = 100)\n",
    "a"
   ]
  },
  {
   "cell_type": "code",
   "execution_count": 6,
   "metadata": {
    "collapsed": false
   },
   "outputs": [
    {
     "name": "stdout",
     "output_type": "stream",
     "text": [
      "0\n",
      "days 2, 3 or 4\n",
      "days 2, 3 or 4\n",
      "days 2, 3 or 4\n",
      "4\n",
      "5\n",
      "6\n",
      "7\n",
      "8\n",
      "9\n"
     ]
    }
   ],
   "source": [
    "for t in range(0, 10):\n",
    "    if t in [1, 2, 3]:\n",
    "        print('days 2, 3 or 4')\n",
    "    else:\n",
    "        print(t)"
   ]
  },
  {
   "cell_type": "code",
   "execution_count": null,
   "metadata": {
    "collapsed": true
   },
   "outputs": [],
   "source": []
  },
  {
   "cell_type": "code",
   "execution_count": null,
   "metadata": {
    "collapsed": true
   },
   "outputs": [],
   "source": []
  },
  {
   "cell_type": "code",
   "execution_count": null,
   "metadata": {
    "collapsed": true
   },
   "outputs": [],
   "source": []
  },
  {
   "cell_type": "code",
   "execution_count": null,
   "metadata": {
    "collapsed": true
   },
   "outputs": [],
   "source": []
  },
  {
   "cell_type": "code",
   "execution_count": null,
   "metadata": {
    "collapsed": true
   },
   "outputs": [],
   "source": []
  },
  {
   "cell_type": "code",
   "execution_count": null,
   "metadata": {
    "collapsed": true
   },
   "outputs": [],
   "source": []
  },
  {
   "cell_type": "code",
   "execution_count": null,
   "metadata": {
    "collapsed": true
   },
   "outputs": [],
   "source": []
  },
  {
   "cell_type": "code",
   "execution_count": null,
   "metadata": {
    "collapsed": true
   },
   "outputs": [],
   "source": []
  },
  {
   "cell_type": "code",
   "execution_count": null,
   "metadata": {
    "collapsed": true
   },
   "outputs": [],
   "source": []
  },
  {
   "cell_type": "code",
   "execution_count": null,
   "metadata": {
    "collapsed": true
   },
   "outputs": [],
   "source": []
  },
  {
   "cell_type": "code",
   "execution_count": null,
   "metadata": {
    "collapsed": true
   },
   "outputs": [],
   "source": []
  }
 ],
 "metadata": {
  "kernelspec": {
   "display_name": "Python 3",
   "language": "python",
   "name": "python3"
  },
  "language_info": {
   "codemirror_mode": {
    "name": "ipython",
    "version": 3
   },
   "file_extension": ".py",
   "mimetype": "text/x-python",
   "name": "python",
   "nbconvert_exporter": "python",
   "pygments_lexer": "ipython3",
   "version": "3.5.2"
  }
 },
 "nbformat": 4,
 "nbformat_minor": 2
}
